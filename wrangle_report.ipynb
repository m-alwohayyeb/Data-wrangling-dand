{
 "cells": [
  {
   "cell_type": "markdown",
   "metadata": {},
   "source": [
    "## Data Wrangling Report\n",
    "\n",
    "## Table of Contents\n",
    "- [Gathering](#Gathering)\n",
    "- [Assessing](#Assessing)\n",
    "- [Cleaning](#Cleaning)"
   ]
  },
  {
   "cell_type": "markdown",
   "metadata": {},
   "source": [
    "<a id='Gathering'></a>\n",
    "## Gathering\n",
    "Firstly, we started by gathering the twitter data from different sources, we already had `twitter_archive_enhanced.csv` on hands so we imported it directly using pandas's methods with dataframe name `twt_df`. We want image predictions for the images in the tweets and the data for that are available in this [site](https://d17h27t6h515a5.cloudfront.net/topher/2017/August/599fd2ad_image-predictions/image-predictions.tsv) , so we used requests library to extract the data from the site and we saved it with name `image_predictions.tcv`, then we imported it using pandas's methods with dataframe name `img_prds`. The last data we needed was the favorites and retweets counts of each tweet, and that was available by using twitter API to extract it with JSON format, so we opened `tweet-json.txt` that has the extracted data, and went through it line by line to add it `twt_data` dataframe."
   ]
  },
  {
   "cell_type": "markdown",
   "metadata": {},
   "source": [
    "<a id='Assessing'></a>\n",
    "## Assessing\n",
    "Secondly, we wanted to do a visual and programmatic assessment to find any quality and tidiness issues. we started by doing visual assessment and we opened each dataframe individually, for the quality we noticed that in `twt_df` many rows had None instead of NaN, the source of each tweet is in a URL format, and some tweets were not dog ratings. For the programmatic assessment we mostly used pandas's methods to find issues that can't be found visually, and the following was the `twt_df` issues we found :\n",
    "- Tweet id had wrong datatype(Integer).\n",
    "- Time of the tweet and retweets had wrong datatypes(String).\n",
    "- All the status and user id's had wrong datatypes(float).\n",
    "- Some entries had a rating denominator other than 10.\n",
    "- Some dogs' names were `a`, `the` and `an` and many more wrong names.\n",
    "- Some retweets are not from @dog_rates.\n",
    "- Some dogs had more than just one dog type.\n",
    "- Some entries had wrong ratings, for example, 75 instead of 9.75.\n",
    "\n",
    "`img_prds` issue:\n",
    "- Tweet id had wrong datatype(Integer).\n",
    "- Some tweets didn't have a dog image.\n",
    "\n",
    "`twt_data` issue:\n",
    "- All numeric values have String datatype.\n",
    "\n",
    "for tidiness, we wanted to merge `twt_df` and `twt_data` into one dataframe, delete any rows in `twt_df` and `twt_data` that didn't - have an image prediction in `img_prds`, there were 4 columns for dog type instead of one and we wanted to make sure that all the dataframes has the same tweets.\n"
   ]
  },
  {
   "cell_type": "markdown",
   "metadata": {},
   "source": [
    "<a id='Cleaning'></a>\n",
    "\n",
    "## Cleaning\n",
    "\n",
    "Lastly, for cleaning, we fixed all the issues in the assessing phase , and the fixes were as followed:\n",
    "#### Quality : \n",
    "##### `twt_df` :\n",
    "- Changed every None to NaN\n",
    "- Changed the source from a URL to the source name (ex. IPhone)\n",
    "- Deleted Tweets that were not a dog rate.\n",
    "- Tweet id datatype changed from `Integer` to `String`\n",
    "- All time columns datatypes changed from `String` to `datatime`.\n",
    "- All status and user id's columns changed from `float` to `String`.\n",
    "- Deleted any tweet with a rating denominator other than 10.\n",
    "- Deleted any tweet that has `a` , `the` and `an` ... in the name column.\n",
    "- Deleted any retweets.\n",
    "- Deleted any row that has many dog types.\n",
    "- Changed ( 75 , 26, 27 ) in the rating nominator to ( 10 , 11 , 11).\n",
    "\n",
    "##### `img_prds` :\n",
    "- Tweet id datatype changed from `Integer` to `String`\n",
    "- Deleted any tweet that didn't predict a dog image.\n",
    "\n",
    "##### `twt_data` :\n",
    "- Changed all numeric value columns datatypes from `String` to `Integer`.\n",
    "\n",
    "#### Tidiness : \n",
    "- Merged `twt_df` and `twt_data` into one dataframe.\n",
    "- Deleted any tweet in `twt_df` and `twt_data` that didn't have an image prediction in `img_prds`.\n",
    "- Merged dog types columns into one column with name `dog_type`.\n",
    "- Made all the dataframes have the same tweets."
   ]
  }
 ],
 "metadata": {
  "kernelspec": {
   "display_name": "Python 3",
   "language": "python",
   "name": "python3"
  },
  "language_info": {
   "codemirror_mode": {
    "name": "ipython",
    "version": 3
   },
   "file_extension": ".py",
   "mimetype": "text/x-python",
   "name": "python",
   "nbconvert_exporter": "python",
   "pygments_lexer": "ipython3",
   "version": "3.6.3"
  }
 },
 "nbformat": 4,
 "nbformat_minor": 2
}
